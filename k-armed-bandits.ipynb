{
 "cells": [
  {
   "cell_type": "code",
   "execution_count": 27,
   "metadata": {},
   "outputs": [],
   "source": [
    "import numpy as np\n",
    "import random\n",
    "import matplotlib.pyplot as plt"
   ]
  },
  {
   "cell_type": "code",
   "execution_count": null,
   "metadata": {},
   "outputs": [
    {
     "name": "stderr",
     "output_type": "stream",
     "text": [
      "/var/folders/bn/hglmht2s7y19n14x7s3vfm2m0000gn/T/ipykernel_38207/2651253796.py:18: DeprecationWarning: Conversion of an array with ndim > 0 to a scalar is deprecated, and will error in future. Ensure you extract a single element from your array before performing this operation. (Deprecated NumPy 1.25.)\n",
      "  estimated_means[choice] = estimated_means[choice] + 1 / num_chosen[choice] * (reward - estimated_means[choice])\n"
     ]
    },
    {
     "ename": "UFuncTypeError",
     "evalue": "Cannot cast ufunc 'add' output from dtype('float64') to dtype('int64') with casting rule 'same_kind'",
     "output_type": "error",
     "traceback": [
      "\u001b[0;31m---------------------------------------------------------------------------\u001b[0m",
      "\u001b[0;31mUFuncTypeError\u001b[0m                            Traceback (most recent call last)",
      "Cell \u001b[0;32mIn[29], line 19\u001b[0m\n\u001b[1;32m     17\u001b[0m         temp_reward\u001b[38;5;241m.\u001b[39mappend(reward)\n\u001b[1;32m     18\u001b[0m         estimated_means[choice] \u001b[38;5;241m=\u001b[39m estimated_means[choice] \u001b[38;5;241m+\u001b[39m \u001b[38;5;241m1\u001b[39m \u001b[38;5;241m/\u001b[39m num_chosen[choice] \u001b[38;5;241m*\u001b[39m (reward \u001b[38;5;241m-\u001b[39m estimated_means[choice])\n\u001b[0;32m---> 19\u001b[0m     rewards \u001b[38;5;241m+\u001b[39m\u001b[38;5;241m=\u001b[39m temp_reward\n\u001b[1;32m     21\u001b[0m rewards \u001b[38;5;241m=\u001b[39m rewards \u001b[38;5;241m/\u001b[39m \u001b[38;5;241m2000\u001b[39m\n\u001b[1;32m     22\u001b[0m plt\u001b[38;5;241m.\u001b[39mplot(rewards)\n",
      "\u001b[0;31mUFuncTypeError\u001b[0m: Cannot cast ufunc 'add' output from dtype('float64') to dtype('int64') with casting rule 'same_kind'"
     ]
    }
   ],
   "source": [
    "rewards = np.array([0] * 1000)\n",
    "for temp in range(2000):\n",
    "    k = 5\n",
    "    epsilon = 0.1\n",
    "    means = np.random.normal(0,1,k)\n",
    "\n",
    "    estimated_means = np.zeros((k))\n",
    "    num_chosen = np.zeros((k))\n",
    "    temp_reward = np.array([0] * 1000)\n",
    "    for i in range(1000):\n",
    "        if random.random() < epsilon:\n",
    "            choice = random.randint(0,k-1)\n",
    "        else:\n",
    "            choice = np.argmax(estimated_means)\n",
    "        num_chosen[choice] += 1\n",
    "        reward = np.random.normal(means[choice], 1, 1)\n",
    "        temp_reward[i] = reward\n",
    "        estimated_means[choice] = estimated_means[choice] + 1 / num_chosen[choice] * (reward - estimated_means[choice])\n",
    "    rewards += temp_reward\n",
    "\n",
    "rewards = rewards / 2000\n",
    "plt.plot(rewards)\n"
   ]
  }
 ],
 "metadata": {
  "kernelspec": {
   "display_name": "base",
   "language": "python",
   "name": "python3"
  },
  "language_info": {
   "codemirror_mode": {
    "name": "ipython",
    "version": 3
   },
   "file_extension": ".py",
   "mimetype": "text/x-python",
   "name": "python",
   "nbconvert_exporter": "python",
   "pygments_lexer": "ipython3",
   "version": "3.12.2"
  }
 },
 "nbformat": 4,
 "nbformat_minor": 2
}

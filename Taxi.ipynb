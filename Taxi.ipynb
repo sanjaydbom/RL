{
 "cells": [
  {
   "cell_type": "code",
   "execution_count": 9,
   "metadata": {},
   "outputs": [],
   "source": [
    "import gymnasium as gym\n",
    "from collections import defaultdict\n",
    "import random"
   ]
  },
  {
   "cell_type": "code",
   "execution_count": 81,
   "metadata": {},
   "outputs": [],
   "source": [
    "env =  gym.make(\"Taxi-v3\")\n",
    "env.reset(seed=42)\n",
    "\n",
    "policy = defaultdict(int)\n",
    "state_action_value = defaultdict(lambda: 5.0)\n",
    "\n",
    "epsilon = 1.0\n",
    "epsilon_decay = 0.99\n",
    "min_epsilon = 0.05\n",
    "gamma = 0.99\n",
    "alpha = 0.2\n",
    "action_space = [0,1,2,3,4,5]\n",
    "for _ in range(10_000):\n",
    "    observation, info = env.reset()\n",
    "    done = False\n",
    "    while not done:\n",
    "        if random.random() < epsilon:\n",
    "            action = env.action_space.sample()\n",
    "        else:\n",
    "            action = policy[observation]\n",
    "        \n",
    "        new_observation, reward, terminated, truncated, _ = env.step(action)\n",
    "\n",
    "        done = terminated or truncated\n",
    "        \n",
    "        future_rewards = max(state_action_value[(new_observation,a)] for a in action_space)\n",
    "        state_action_value[(observation, action)] += alpha * (reward + gamma * future_rewards - state_action_value[(observation, action)])\n",
    "        policy[observation] = max(action_space, key = lambda a: state_action_value[(observation, a)])\n",
    "\n",
    "        observation = new_observation\n",
    "    epsilon = max(epsilon * epsilon_decay, min_epsilon)\n",
    "env.close()"
   ]
  },
  {
   "cell_type": "code",
   "execution_count": 82,
   "metadata": {},
   "outputs": [
    {
     "name": "stdout",
     "output_type": "stream",
     "text": [
      "Success rate over 100 episodes: 100.0%\n"
     ]
    }
   ],
   "source": [
    "num_success = 0\n",
    "\n",
    "for _ in range(1000):\n",
    "    observation, _ = env.reset()\n",
    "    episode_over = False\n",
    "\n",
    "    while not episode_over:\n",
    "        action = policy[observation]\n",
    "        observation, reward, terminated, truncated, _ = env.step(action)\n",
    "        \n",
    "        if terminated:\n",
    "            episode_over = True\n",
    "            num_success += 1\n",
    "        elif truncated:\n",
    "            episode_over = True\n",
    "\n",
    "print(f\"Success rate over 100 episodes: {num_success/10}%\")"
   ]
  },
  {
   "cell_type": "code",
   "execution_count": 84,
   "metadata": {},
   "outputs": [],
   "source": [
    "env =  gym.make(\"Taxi-v3\")\n",
    "env.reset(seed=42)\n",
    "\n",
    "policy = defaultdict(int)\n",
    "state_action_value = defaultdict(lambda: 5.0)\n",
    "\n",
    "epsilon = 1.0\n",
    "epsilon_decay = 0.99\n",
    "min_epsilon = 0.05\n",
    "gamma = 0.99\n",
    "alpha = 0.2\n",
    "action_space = [0,1,2,3,4,5]\n",
    "for _ in range(10_000):\n",
    "    observation, info = env.reset()\n",
    "    done = False\n",
    "    while not done:\n",
    "        if random.random() < epsilon:\n",
    "            action = env.action_space.sample()\n",
    "        else:\n",
    "            action = policy[observation]\n",
    "        \n",
    "        new_observation, reward, terminated, truncated, _ = env.step(action)\n",
    "\n",
    "        done = terminated or truncated\n",
    "        \n",
    "        future_rewards = state_action_value[(new_observation,policy[new_observation])]\n",
    "        state_action_value[(observation, action)] += alpha * (reward + gamma * future_rewards - state_action_value[(observation, action)])\n",
    "        policy[observation] = max(action_space, key = lambda a: state_action_value[(observation, a)])\n",
    "\n",
    "        observation = new_observation\n",
    "    epsilon = max(epsilon * epsilon_decay, min_epsilon)\n",
    "env.close()"
   ]
  },
  {
   "cell_type": "code",
   "execution_count": 85,
   "metadata": {},
   "outputs": [
    {
     "name": "stdout",
     "output_type": "stream",
     "text": [
      "Success rate over 100 episodes: 100.0%\n"
     ]
    },
    {
     "ename": "",
     "evalue": "",
     "output_type": "error",
     "traceback": [
      "\u001b[1;31mThe Kernel crashed while executing code in the current cell or a previous cell. \n",
      "\u001b[1;31mPlease review the code in the cell(s) to identify a possible cause of the failure. \n",
      "\u001b[1;31mClick <a href='https://aka.ms/vscodeJupyterKernelCrash'>here</a> for more info. \n",
      "\u001b[1;31mView Jupyter <a href='command:jupyter.viewOutput'>log</a> for further details."
     ]
    }
   ],
   "source": [
    "num_success = 0\n",
    "\n",
    "for _ in range(1000):\n",
    "    observation, _ = env.reset()\n",
    "    episode_over = False\n",
    "\n",
    "    while not episode_over:\n",
    "        action = policy[observation]\n",
    "        observation, reward, terminated, truncated, _ = env.step(action)\n",
    "        \n",
    "        if terminated:\n",
    "            episode_over = True\n",
    "            num_success += 1\n",
    "        elif truncated:\n",
    "            episode_over = True\n",
    "\n",
    "print(f\"Success rate over 100 episodes: {num_success/10}%\")"
   ]
  }
 ],
 "metadata": {
  "kernelspec": {
   "display_name": "base",
   "language": "python",
   "name": "python3"
  },
  "language_info": {
   "codemirror_mode": {
    "name": "ipython",
    "version": 3
   },
   "file_extension": ".py",
   "mimetype": "text/x-python",
   "name": "python",
   "nbconvert_exporter": "python",
   "pygments_lexer": "ipython3",
   "version": "3.12.2"
  }
 },
 "nbformat": 4,
 "nbformat_minor": 2
}

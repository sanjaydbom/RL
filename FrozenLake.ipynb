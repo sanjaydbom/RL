{
 "cells": [
  {
   "cell_type": "code",
   "execution_count": 7,
   "metadata": {},
   "outputs": [],
   "source": [
    "import gymnasium as gym\n",
    "from collections import defaultdict\n",
    "import random"
   ]
  },
  {
   "cell_type": "code",
   "execution_count": 36,
   "metadata": {},
   "outputs": [],
   "source": [
    "policy = defaultdict(int)\n",
    "state_action_value = defaultdict(float)\n",
    "state_action_total_rewards = defaultdict(int)\n",
    "num_visited = defaultdict(int)\n",
    "\n",
    "env = gym.make('FrozenLake-v1', is_slippery = True)\n",
    "observation, info = env.reset()\n",
    "\n",
    "epsilon = 1.0\n",
    "epsilon_decay = 0.995\n",
    "min_epsilon = 0.01\n",
    "gamma = 1.0\n",
    "for _ in range(100_000):\n",
    "    observation, _ = env.reset()\n",
    "    episode_over = False\n",
    "    episodes = []\n",
    "    while not episode_over:\n",
    "        if random.random() > epsilon:\n",
    "            action = policy[observation]\n",
    "        else:\n",
    "            action = env.action_space.sample()\n",
    "        episodes.append((observation, action))\n",
    "        observation, r, terminated, truncated, _ = env.step(action)\n",
    "\n",
    "        if terminated or truncated:\n",
    "            episode_over = True\n",
    "            reward = r\n",
    "    seen = set()\n",
    "    for i in range(len(episodes) - 1, -1, -1):\n",
    "        state_action = (episodes[i][0], episodes[i][1])\n",
    "        #reward *= gamma\n",
    "        if state_action not in seen:\n",
    "            seen.add(state_action)\n",
    "            state_action_total_rewards[state_action] += reward\n",
    "            num_visited[state_action] += 1\n",
    "            state_action_value[state_action] = state_action_total_rewards[state_action] / num_visited[state_action]\n",
    "            best_action = max(range(env.action_space.n), key=lambda a: state_action_value[(episodes[i][0], a)])\n",
    "            policy[episodes[i][0]] = best_action\n",
    "    \n",
    "    epsilon *= epsilon_decay\n",
    "    epsilon = max(epsilon, min_epsilon)\n",
    "\n",
    "env.close()"
   ]
  },
  {
   "cell_type": "code",
   "execution_count": 41,
   "metadata": {},
   "outputs": [
    {
     "name": "stdout",
     "output_type": "stream",
     "text": [
      "Success rate over 100 episodes: 72.7%\n"
     ]
    }
   ],
   "source": [
    "num_success = 0\n",
    "for _ in range(1000):\n",
    "    observation, _ = env.reset()\n",
    "    episode_over = False\n",
    "\n",
    "    while not episode_over:\n",
    "        action = policy[observation]\n",
    "        observation, reward, terminated, truncated, _ = env.step(action)\n",
    "        \n",
    "        if terminated or truncated:\n",
    "            episode_over = True\n",
    "            num_success += reward\n",
    "\n",
    "print(f\"Success rate over 100 episodes: {num_success/10}%\")"
   ]
  }
 ],
 "metadata": {
  "kernelspec": {
   "display_name": "base",
   "language": "python",
   "name": "python3"
  },
  "language_info": {
   "codemirror_mode": {
    "name": "ipython",
    "version": 3
   },
   "file_extension": ".py",
   "mimetype": "text/x-python",
   "name": "python",
   "nbconvert_exporter": "python",
   "pygments_lexer": "ipython3",
   "version": "3.12.2"
  }
 },
 "nbformat": 4,
 "nbformat_minor": 2
}

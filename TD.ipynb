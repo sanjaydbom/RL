{
 "cells": [
  {
   "cell_type": "code",
   "execution_count": 26,
   "metadata": {},
   "outputs": [
    {
     "name": "stdout",
     "output_type": "stream",
     "text": [
      "[0.1512284406013072, 0.32142472732466987, 0.4991063067361363, 0.6725938555498322, 0.8312868012654627]\n",
      "0.015438226065359467\n",
      "0.011908606008663447\n",
      "0.0008936932638636819\n",
      "-0.005927188883165568\n",
      "0.0020465320678705323\n"
     ]
    }
   ],
   "source": [
    "import random\n",
    "alpha = 0.01\n",
    "gamma = 1\n",
    "values = [0.5] * 5\n",
    "for _ in range(1000000):\n",
    "    position = 2\n",
    "    while True:\n",
    "        action = random.choice([-1,1])\n",
    "        new_position = position + action\n",
    "        reward = 1 if new_position == 5 else 0\n",
    "        values[position] = values[position] + alpha * (reward + gamma * (values[new_position] if new_position != -1 and new_position != 5 else 0) - values[position])\n",
    "        position = new_position\n",
    "        if position == 5 or position == -1:\n",
    "            break\n",
    "actual_values = [1 / 6 * i for i in range(1,6)]\n",
    "for actual,expected in zip(actual_values, values):\n",
    "    print(actual - expected)"
   ]
  },
  {
   "cell_type": "code",
   "execution_count": null,
   "metadata": {},
   "outputs": [],
   "source": []
  }
 ],
 "metadata": {
  "kernelspec": {
   "display_name": "base",
   "language": "python",
   "name": "python3"
  },
  "language_info": {
   "codemirror_mode": {
    "name": "ipython",
    "version": 3
   },
   "file_extension": ".py",
   "mimetype": "text/x-python",
   "name": "python",
   "nbconvert_exporter": "python",
   "pygments_lexer": "ipython3",
   "version": "3.12.2"
  }
 },
 "nbformat": 4,
 "nbformat_minor": 2
}

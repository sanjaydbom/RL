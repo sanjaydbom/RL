{
 "cells": [
  {
   "cell_type": "code",
   "execution_count": 43,
   "metadata": {},
   "outputs": [],
   "source": [
    "import gymnasium\n",
    "import random\n",
    "import matplotlib.pyplot as plt"
   ]
  },
  {
   "cell_type": "code",
   "execution_count": 188,
   "metadata": {},
   "outputs": [
    {
     "name": "stdout",
     "output_type": "stream",
     "text": [
      "Epoch 0 : -200.0\n",
      "Epoch 100 : -200.0\n",
      "Epoch 200 : -200.0\n",
      "Epoch 300 : -200.0\n",
      "Epoch 400 : -200.0\n",
      "Epoch 500 : -200.0\n",
      "Epoch 600 : -200.0\n",
      "Epoch 700 : -198.81\n",
      "Epoch 800 : -199.79\n",
      "Epoch 900 : -166.14\n",
      "Epoch 1000 : -200.0\n",
      "Epoch 1100 : -200.0\n",
      "Epoch 1200 : -179.32\n",
      "Epoch 1300 : -188.57\n",
      "Epoch 1400 : -198.42\n",
      "Epoch 1500 : -198.45\n",
      "Epoch 1600 : -200.0\n",
      "Epoch 1700 : -199.91\n",
      "Epoch 1800 : -200.0\n",
      "Epoch 1900 : -187.29\n",
      "Epoch 2000 : -200.0\n",
      "Epoch 2100 : -199.86\n",
      "Epoch 2200 : -200.0\n",
      "Epoch 2300 : -199.99\n",
      "Epoch 2400 : -188.44\n",
      "Epoch 2500 : -182.54\n",
      "Epoch 2600 : -191.57\n",
      "Epoch 2700 : -199.98\n",
      "Epoch 2800 : -199.97\n",
      "Epoch 2900 : -199.88\n",
      "Epoch 3000 : -199.97\n",
      "Epoch 3100 : -199.78\n",
      "Epoch 3200 : -199.58\n",
      "Epoch 3300 : -199.97\n",
      "Epoch 3400 : -199.93\n",
      "Epoch 3500 : -199.87\n",
      "Epoch 3600 : -199.71\n",
      "Epoch 3700 : -193.04\n",
      "Epoch 3800 : -197.08\n",
      "Epoch 3900 : -179.0\n",
      "Epoch 4000 : -199.92\n",
      "Epoch 4100 : -194.62\n",
      "Epoch 4200 : -199.99\n",
      "Epoch 4300 : -200.0\n",
      "Epoch 4400 : -199.85\n",
      "Epoch 4500 : -199.38\n",
      "Epoch 4600 : -197.8\n",
      "Epoch 4700 : -198.64\n",
      "Epoch 4800 : -179.57\n",
      "Epoch 4900 : -195.43\n"
     ]
    },
    {
     "data": {
      "image/png": "[encoded data removed]",
      "text/plain": [
       "<Figure size 640x480 with 1 Axes>"
      ]
     },
     "metadata": {},
     "output_type": "display_data"
    },
    {
     "name": "stdout",
     "output_type": "stream",
     "text": [
      "[[150.75738949335243, 510.7920157847337], [152.01768433216006, 511.4046762245469], [134.41138594098905, 1006.8592963463755]]\n"
     ]
    }
   ],
   "source": [
    "num_iterations = 5000\n",
    "alpha = 0.05\n",
    "gamma = 1.0\n",
    "\n",
    "epsilon = 0.1\n",
    "\n",
    "weights = [[0,0],[0,0],[0,0]]\n",
    "\n",
    "\n",
    "def get_best_action(state):\n",
    "    if random.random() < epsilon:\n",
    "        return random.randint(0,2)\n",
    "    best_action = 0\n",
    "    best_action_value = -1000000\n",
    "    for i in range(3):\n",
    "        action_val = weights[i][0] * state[0] + weights[i][1] * state[1]\n",
    "        if action_val > best_action_value:\n",
    "            best_action = i\n",
    "            best_action_value = action_val\n",
    "    return best_action\n",
    "\n",
    "def test_weights():\n",
    "    epsilon = 0\n",
    "    tot_reward = 0\n",
    "    for i in range(100):\n",
    "        state, info = env.reset()\n",
    "        action = get_best_action(state)\n",
    "        while True:\n",
    "            next_state,reward, terminated, truncated, info = env.step(action)\n",
    "            tot_reward += reward\n",
    "            next_action = get_best_action(next_state)\n",
    "            if terminated or truncated:\n",
    "                break\n",
    "            state = next_state\n",
    "            action = next_action\n",
    "    epsilon = 0.1\n",
    "    return tot_reward / 100\n",
    "\n",
    "env = gymnasium.make('MountainCar-v0')\n",
    "rewards = []\n",
    "for i in range(num_iterations):\n",
    "    if(i % 100 == 0):\n",
    "        print(f\"Epoch {i} : {test_weights()}\")\n",
    "    state, info = env.reset()\n",
    "    action = get_best_action(state)\n",
    "    tot_reward = 0\n",
    "    while True:\n",
    "        next_state,reward, terminated, truncated, info = env.step(action)\n",
    "        tot_reward += reward\n",
    "        next_action = get_best_action(next_state)\n",
    "        if terminated or truncated:\n",
    "            weights[action][0] += alpha * (reward - (weights[action][0] * state[0] + weights[action][1] * state[1])) * state[0]\n",
    "            weights[action][1] += alpha * (reward - (weights[action][0] * state[0] + weights[action][1] * state[1])) * state[1]\n",
    "            rewards.append(tot_reward)\n",
    "            break\n",
    "        weights[action][0] += alpha * (reward + gamma * (weights[next_action][0] * next_state[0] + weights[next_action][1] * next_state[1]) - (weights[action][0] * state[0] + weights[action][1] * state[1])) * state[0]\n",
    "        weights[action][1] += alpha * (reward + gamma * (weights[next_action][0] * next_state[0] + weights[next_action][1] * next_state[1]) - (weights[action][0] * state[0] + weights[action][1] * state[1])) * state[1]\n",
    "        state = next_state\n",
    "        action = next_action\n",
    "\n",
    "plt.plot(rewards)\n",
    "plt.show()\n",
    "print(weights)"
   ]
  },
  {
   "cell_type": "code",
   "execution_count": 193,
   "metadata": {},
   "outputs": [
    {
     "name": "stdout",
     "output_type": "stream",
     "text": [
      "-168.17\n"
     ]
    }
   ],
   "source": [
    "epsilon = 0.0\n",
    "tot_reward = 0\n",
    "for i in range(100):\n",
    "    state, info = env.reset()\n",
    "    action = get_best_action(state)\n",
    "    while True:\n",
    "        next_state,reward, terminated, truncated, info = env.step(action)\n",
    "        tot_reward += reward\n",
    "        next_action = get_best_action(next_state)\n",
    "        if terminated or truncated:\n",
    "            break\n",
    "        state = next_state\n",
    "        action = next_action\n",
    "print(tot_reward / 100)"
   ]
  },
  {
   "cell_type": "code",
   "execution_count": 218,
   "metadata": {},
   "outputs": [
    {
     "name": "stdout",
     "output_type": "stream",
     "text": [
      "-119.57\n"
     ]
    }
   ],
   "source": [
    "tot_reward = 0\n",
    "for i in range(1000):\n",
    "    state, info = env.reset()\n",
    "    was_going_forward = True\n",
    "    action = 2\n",
    "    while True:\n",
    "        next_state,reward, terminated, truncated, info = env.step(action)\n",
    "        tot_reward += reward\n",
    "        next_action = 2 if next_state[1] > 0 else 0\n",
    "        if terminated or truncated:\n",
    "            break\n",
    "        state = next_state\n",
    "        action = next_action\n",
    "print(tot_reward / 1000)"
   ]
  }
 ],
 "metadata": {
  "kernelspec": {
   "display_name": "base",
   "language": "python",
   "name": "python3"
  },
  "language_info": {
   "codemirror_mode": {
    "name": "ipython",
    "version": 3
   },
   "file_extension": ".py",
   "mimetype": "text/x-python",
   "name": "python",
   "nbconvert_exporter": "python",
   "pygments_lexer": "ipython3",
   "version": "3.12.2"
  }
 },
 "nbformat": 4,
 "nbformat_minor": 2
}
